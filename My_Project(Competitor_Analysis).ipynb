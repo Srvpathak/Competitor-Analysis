{
  "nbformat": 4,
  "nbformat_minor": 0,
  "metadata": {
    "colab": {
      "name": "My_Project(Competitor_Analysis).ipynb",
      "provenance": [],
      "collapsed_sections": []
    },
    "kernelspec": {
      "name": "python3",
      "display_name": "Python 3"
    },
    "language_info": {
      "name": "python"
    }
  },
  "cells": [
    {
      "cell_type": "markdown",
      "metadata": {
        "id": "7JGwY4zJR73y"
      },
      "source": [
        "We are provided with historical sales data for 1,115 Rossmann stores. The task is to forecast the \"Sales\" column for the test set. Some stores in the dataset were temporarily closed for refurbishment.\n",
        "\n",
        "Files\n",
        "\n",
        "- train.csv - historical data including Sales\n",
        "\n",
        "- test.csv - historical data excluding Sales\n",
        "\n",
        "- store.csv - supplemental information about the stores\n",
        "\n",
        "- Data fields:---\n",
        "\n",
        "- Id - an Id that represents a (Store, Date) duple within the test set\n",
        "\n",
        "- Store - a unique Id for each store\n",
        "\n",
        "- Sales - the turnover for any given day (this is what you are predicting)\n",
        "\n",
        "- Customers - the number of customers on a given day\n",
        "\n",
        "- Open - an indicator for whether the store was open: 0 = closed, 1 = open\n",
        "\n",
        "- StateHoliday - indicates a state holiday. Normally all stores, with few exceptions, are closed on state holidays. Note that all schools are closed on public holidays and weekends. a = public holiday, b = Easter - holiday, c = Christmas, 0 = None\n",
        "\n",
        "- SchoolHoliday - indicates if the (Store, Date) was affected by the closure of public schools\n",
        "\n",
        "- StoreType - differentiates between 4 different store models: a, b, c, d\n",
        "\n",
        "- Assortment - describes an assortment level: a = basic, b = extra, c = extended\n",
        "\n",
        "- CompetitionDistance - distance in meters to the nearest competitor store\n",
        "\n",
        "- CompetitionOpenSince[Month/Year] - gives the approximate year and month of the time the nearest competitor was opened\n",
        "\n",
        "- Promo - indicates whether a store is running a promo on that day\n",
        "\n",
        "- Promo2 - Promo2 is a continuing and consecutive promotion for some\n",
        "\n",
        "- stores: 0 = store is not participating, 1 = store is participating\n",
        "\n",
        "- Promo2Since[Year/Week] - describes the year and calendar week when the store started participating in Promo2\n",
        "\n",
        "- PromoInterval - describes the consecutive intervals Promo2 is started, naming the months the promotion is started a new. E.g. \"Feb,May,Aug,Nov\" means each round starts in February, May, August, November of any given year for that store"
      ]
    },
    {
      "cell_type": "code",
      "metadata": {
        "id": "IT45CmYIkC_6"
      },
      "source": [
        ""
      ],
      "execution_count": null,
      "outputs": []
    },
    {
      "cell_type": "markdown",
      "metadata": {
        "id": "qcDuz2nbkE6t"
      },
      "source": [
        "**Perfrom Following**"
      ]
    },
    {
      "cell_type": "markdown",
      "metadata": {
        "id": "Ku4DeRQZkWP8"
      },
      "source": [
        "**Data Cleaning,Data_Preprocessing :- (Scalling,Feture_Selction,PCA,Dicsrtization,Corealtion_Matrix) And For Modeling use Simple Linear Regression Model**"
      ]
    },
    {
      "cell_type": "markdown",
      "metadata": {
        "id": "0rxN6XtDQ8kv"
      },
      "source": [
        "**[Linear_Regression](https://colab.research.google.com/drive/1cCMLJ-e2S29RW1_FQm8-i57jzcwj9OFe?usp=sharing)**"
      ]
    },
    {
      "cell_type": "code",
      "metadata": {
        "id": "bpqa2FYq8jRs"
      },
      "source": [
        "import pandas as pd \n",
        "evaluation = pd.DataFrame() \n",
        "def evaluation_df(method, mae, mse, rmse,acc, evaluation):\n",
        "    temp_evaluation = pd.DataFrame({'Method':[method], 'MAE': [mae], 'MSE': [mse], 'RMSE': [rmse], 'Accuracy':[acc]})\n",
        "    evaluation = pd.concat([evaluation, temp_evaluation])\n",
        "    evaluation = evaluation[['Method', 'MAE', 'MSE', 'RMSE','Accuracy']]\n",
        "    return evaluation  "
      ],
      "execution_count": null,
      "outputs": []
    },
    {
      "cell_type": "code",
      "metadata": {
        "colab": {
          "base_uri": "https://localhost:8080/",
          "height": 80
        },
        "id": "6n8ufb9i8oqG",
        "outputId": "d438a501-5242-4e62-f9fa-af68695fd12f"
      },
      "source": [
        " mae=2058.549527796732\n",
        " mse=8050972.932476965\n",
        " rmse=45.371241197445016 \n",
        " acc = 0.166380042761767\n",
        " evaluation = evaluation_df('Linear_Regression', mae, mse, rmse,acc, evaluation) \n",
        " evaluation "
      ],
      "execution_count": null,
      "outputs": [
        {
          "output_type": "execute_result",
          "data": {
            "text/html": [
              "<div>\n",
              "<style scoped>\n",
              "    .dataframe tbody tr th:only-of-type {\n",
              "        vertical-align: middle;\n",
              "    }\n",
              "\n",
              "    .dataframe tbody tr th {\n",
              "        vertical-align: top;\n",
              "    }\n",
              "\n",
              "    .dataframe thead th {\n",
              "        text-align: right;\n",
              "    }\n",
              "</style>\n",
              "<table border=\"1\" class=\"dataframe\">\n",
              "  <thead>\n",
              "    <tr style=\"text-align: right;\">\n",
              "      <th></th>\n",
              "      <th>Method</th>\n",
              "      <th>MAE</th>\n",
              "      <th>MSE</th>\n",
              "      <th>RMSE</th>\n",
              "      <th>Accuracy</th>\n",
              "    </tr>\n",
              "  </thead>\n",
              "  <tbody>\n",
              "    <tr>\n",
              "      <th>0</th>\n",
              "      <td>Linear_Regression</td>\n",
              "      <td>2058.549528</td>\n",
              "      <td>8.050973e+06</td>\n",
              "      <td>45.371241</td>\n",
              "      <td>0.16638</td>\n",
              "    </tr>\n",
              "  </tbody>\n",
              "</table>\n",
              "</div>"
            ],
            "text/plain": [
              "              Method          MAE           MSE       RMSE  Accuracy\n",
              "0  Linear_Regression  2058.549528  8.050973e+06  45.371241   0.16638"
            ]
          },
          "metadata": {
            "tags": []
          },
          "execution_count": 2
        }
      ]
    },
    {
      "cell_type": "markdown",
      "metadata": {
        "id": "Sl5E697Vksvs"
      },
      "source": [
        "**Step-2: Data_Cleaning,Feature_Selection,Outlier_Detection ,Scalling ,Polynomial_Featuring And For Modeling Use Simple_Linear_Regression_Model**"
      ]
    },
    {
      "cell_type": "markdown",
      "metadata": {
        "id": "lFuKPHTjlKhh"
      },
      "source": [
        "**[Polynomial_Featuring](https://colab.research.google.com/drive/1WDhv60ojo5a3oy4S55pdoj_IapZtYZBO?usp=sharing)**"
      ]
    },
    {
      "cell_type": "code",
      "metadata": {
        "colab": {
          "base_uri": "https://localhost:8080/",
          "height": 111
        },
        "id": "EyFW5I4k9eNJ",
        "outputId": "4db937a1-df08-42bd-a444-d79f0a15f911"
      },
      "source": [
        "mae=1700.2154378467196\n",
        "mse=6320232.404716321\n",
        "rmse=41.23366874105092\n",
        "acc = 0.5718038915475071\n",
        "evaluation = evaluation_df('Polynomial_Regression', mae, mse, rmse,acc, evaluation) \n",
        "evaluation "
      ],
      "execution_count": null,
      "outputs": [
        {
          "output_type": "execute_result",
          "data": {
            "text/html": [
              "<div>\n",
              "<style scoped>\n",
              "    .dataframe tbody tr th:only-of-type {\n",
              "        vertical-align: middle;\n",
              "    }\n",
              "\n",
              "    .dataframe tbody tr th {\n",
              "        vertical-align: top;\n",
              "    }\n",
              "\n",
              "    .dataframe thead th {\n",
              "        text-align: right;\n",
              "    }\n",
              "</style>\n",
              "<table border=\"1\" class=\"dataframe\">\n",
              "  <thead>\n",
              "    <tr style=\"text-align: right;\">\n",
              "      <th></th>\n",
              "      <th>Method</th>\n",
              "      <th>MAE</th>\n",
              "      <th>MSE</th>\n",
              "      <th>RMSE</th>\n",
              "      <th>Accuracy</th>\n",
              "    </tr>\n",
              "  </thead>\n",
              "  <tbody>\n",
              "    <tr>\n",
              "      <th>0</th>\n",
              "      <td>Linear_Regression</td>\n",
              "      <td>2058.549528</td>\n",
              "      <td>8.050973e+06</td>\n",
              "      <td>45.371241</td>\n",
              "      <td>0.166380</td>\n",
              "    </tr>\n",
              "    <tr>\n",
              "      <th>0</th>\n",
              "      <td>Polynomial_Regression</td>\n",
              "      <td>1700.215438</td>\n",
              "      <td>6.320232e+06</td>\n",
              "      <td>41.233669</td>\n",
              "      <td>0.571804</td>\n",
              "    </tr>\n",
              "  </tbody>\n",
              "</table>\n",
              "</div>"
            ],
            "text/plain": [
              "                  Method          MAE           MSE       RMSE  Accuracy\n",
              "0      Linear_Regression  2058.549528  8.050973e+06  45.371241  0.166380\n",
              "0  Polynomial_Regression  1700.215438  6.320232e+06  41.233669  0.571804"
            ]
          },
          "metadata": {
            "tags": []
          },
          "execution_count": 3
        }
      ]
    },
    {
      "cell_type": "markdown",
      "metadata": {
        "id": "Mm6XaD0T2IBB"
      },
      "source": [
        "**Step - 3**"
      ]
    },
    {
      "cell_type": "markdown",
      "metadata": {
        "id": "NWv1e9EI2TYA"
      },
      "source": [
        "**After Polynimial featurning using Simple Regression i got very Low Accuracy so i used XGBoost Non_Liner Regression**"
      ]
    },
    {
      "cell_type": "markdown",
      "metadata": {
        "id": "8_W-PP-943iT"
      },
      "source": [
        "**[XGBoost](https://colab.research.google.com/drive/1kzOiBfsWW7ggv252y1xXLlh9NHAUahyz?usp=sharing)**\n",
        "\n",
        "\n",
        "\n"
      ]
    },
    {
      "cell_type": "markdown",
      "metadata": {
        "id": "CTJ6ZzqYotR6"
      },
      "source": [
        "**XGBoost, not only a model it is part of boosting that comes under Enable Learning. It’s a very powerful model and used a lot of resources. Its algorithm works based on the decision tree. it works better on Regression predictive modelling problems that involve predicting a numerical value such as a dollar amount or a height. XGBoost can be used directly for regression predictive modelling. this model really very intelligent, it manages many processes itself. In the below diagram all of the steps followed by this model are listed.**"
      ]
    },
    {
      "cell_type": "code",
      "metadata": {
        "colab": {
          "base_uri": "https://localhost:8080/",
          "height": 142
        },
        "id": "KZiPH4tf-Aft",
        "outputId": "aaefa008-60e1-46b7-c975-fd2f15959577"
      },
      "source": [
        "mae=516.607475642214\n",
        "mse=613615.5392578198\n",
        "rmse=22.72900076207078\n",
        "acc =0.9582538179470221\n",
        "evaluation = evaluation_df('XGBoost_Regression', mae, mse, rmse,acc, evaluation) \n",
        "evaluation "
      ],
      "execution_count": null,
      "outputs": [
        {
          "output_type": "execute_result",
          "data": {
            "text/html": [
              "<div>\n",
              "<style scoped>\n",
              "    .dataframe tbody tr th:only-of-type {\n",
              "        vertical-align: middle;\n",
              "    }\n",
              "\n",
              "    .dataframe tbody tr th {\n",
              "        vertical-align: top;\n",
              "    }\n",
              "\n",
              "    .dataframe thead th {\n",
              "        text-align: right;\n",
              "    }\n",
              "</style>\n",
              "<table border=\"1\" class=\"dataframe\">\n",
              "  <thead>\n",
              "    <tr style=\"text-align: right;\">\n",
              "      <th></th>\n",
              "      <th>Method</th>\n",
              "      <th>MAE</th>\n",
              "      <th>MSE</th>\n",
              "      <th>RMSE</th>\n",
              "      <th>Accuracy</th>\n",
              "    </tr>\n",
              "  </thead>\n",
              "  <tbody>\n",
              "    <tr>\n",
              "      <th>0</th>\n",
              "      <td>Linear_Regression</td>\n",
              "      <td>2058.549528</td>\n",
              "      <td>8.050973e+06</td>\n",
              "      <td>45.371241</td>\n",
              "      <td>0.166380</td>\n",
              "    </tr>\n",
              "    <tr>\n",
              "      <th>0</th>\n",
              "      <td>Polynomial_Regression</td>\n",
              "      <td>1700.215438</td>\n",
              "      <td>6.320232e+06</td>\n",
              "      <td>41.233669</td>\n",
              "      <td>0.571804</td>\n",
              "    </tr>\n",
              "    <tr>\n",
              "      <th>0</th>\n",
              "      <td>XGBoost_Regression</td>\n",
              "      <td>516.607476</td>\n",
              "      <td>6.136155e+05</td>\n",
              "      <td>22.729001</td>\n",
              "      <td>0.958254</td>\n",
              "    </tr>\n",
              "  </tbody>\n",
              "</table>\n",
              "</div>"
            ],
            "text/plain": [
              "                  Method          MAE           MSE       RMSE  Accuracy\n",
              "0      Linear_Regression  2058.549528  8.050973e+06  45.371241  0.166380\n",
              "0  Polynomial_Regression  1700.215438  6.320232e+06  41.233669  0.571804\n",
              "0     XGBoost_Regression   516.607476  6.136155e+05  22.729001  0.958254"
            ]
          },
          "metadata": {
            "tags": []
          },
          "execution_count": 4
        }
      ]
    },
    {
      "cell_type": "markdown",
      "metadata": {
        "id": "qCLoXPxT23-x"
      },
      "source": [
        "**Step-4**"
      ]
    },
    {
      "cell_type": "markdown",
      "metadata": {
        "id": "faE2fDlF6UNs"
      },
      "source": [
        "**DecesionTree Regressor**"
      ]
    },
    {
      "cell_type": "markdown",
      "metadata": {
        "id": "AndI8kIoqqsN"
      },
      "source": [
        "**This DecesionTree Regressor is part of Bagging that’s come under Enable Learning. And this algorithm falls under the supervised learning algorithm.it works for both continuous as well as categorical output variables. This represents a binary tree. This is our binary tree from algorithms and data structures, nothing too fancy. Each node represents a single input variable (x) and a split point on that variable (assuming the variable is numeric). The leaf nodes of the tree contain an output variable (y) which is used to make a prediction. It’s taken more time during model training of regression data because it makes the tree of all data like as.**"
      ]
    },
    {
      "cell_type": "code",
      "metadata": {
        "id": "PAUWgG2K-3ot"
      },
      "source": [
        ""
      ],
      "execution_count": null,
      "outputs": []
    },
    {
      "cell_type": "markdown",
      "metadata": {
        "id": "b0f0TokP6llC"
      },
      "source": [
        "**[DecesionTree Regressor](https://colab.research.google.com/drive/1BpLQLhxe4lDb_diX_1ERknuG0N4Vn71q?usp=sharing)**"
      ]
    },
    {
      "cell_type": "code",
      "metadata": {
        "colab": {
          "base_uri": "https://localhost:8080/",
          "height": 173
        },
        "id": "UNkDk3PZEnkd",
        "outputId": "4ad59401-f0fd-41aa-b93b-4fba03031ae0"
      },
      "source": [
        "mae=718.7902409531955\n",
        "mse=1623834.1581767777\n",
        "rmse=26.81026372405157\n",
        "acc =0.8898590914279104\n",
        "evaluation = evaluation_df('DecesionTree Regressor', mae, mse, rmse,acc, evaluation) \n",
        "evaluation "
      ],
      "execution_count": null,
      "outputs": [
        {
          "output_type": "execute_result",
          "data": {
            "text/html": [
              "<div>\n",
              "<style scoped>\n",
              "    .dataframe tbody tr th:only-of-type {\n",
              "        vertical-align: middle;\n",
              "    }\n",
              "\n",
              "    .dataframe tbody tr th {\n",
              "        vertical-align: top;\n",
              "    }\n",
              "\n",
              "    .dataframe thead th {\n",
              "        text-align: right;\n",
              "    }\n",
              "</style>\n",
              "<table border=\"1\" class=\"dataframe\">\n",
              "  <thead>\n",
              "    <tr style=\"text-align: right;\">\n",
              "      <th></th>\n",
              "      <th>Method</th>\n",
              "      <th>MAE</th>\n",
              "      <th>MSE</th>\n",
              "      <th>RMSE</th>\n",
              "      <th>Accuracy</th>\n",
              "    </tr>\n",
              "  </thead>\n",
              "  <tbody>\n",
              "    <tr>\n",
              "      <th>0</th>\n",
              "      <td>Linear_Regression</td>\n",
              "      <td>2058.549528</td>\n",
              "      <td>8.050973e+06</td>\n",
              "      <td>45.371241</td>\n",
              "      <td>0.166380</td>\n",
              "    </tr>\n",
              "    <tr>\n",
              "      <th>0</th>\n",
              "      <td>Polynomial_Regression</td>\n",
              "      <td>1700.215438</td>\n",
              "      <td>6.320232e+06</td>\n",
              "      <td>41.233669</td>\n",
              "      <td>0.571804</td>\n",
              "    </tr>\n",
              "    <tr>\n",
              "      <th>0</th>\n",
              "      <td>XGBoost_Regression</td>\n",
              "      <td>516.607476</td>\n",
              "      <td>6.136155e+05</td>\n",
              "      <td>22.729001</td>\n",
              "      <td>0.958254</td>\n",
              "    </tr>\n",
              "    <tr>\n",
              "      <th>0</th>\n",
              "      <td>DecesionTree Regressor</td>\n",
              "      <td>718.790241</td>\n",
              "      <td>1.623834e+06</td>\n",
              "      <td>26.810264</td>\n",
              "      <td>0.889859</td>\n",
              "    </tr>\n",
              "  </tbody>\n",
              "</table>\n",
              "</div>"
            ],
            "text/plain": [
              "                   Method          MAE           MSE       RMSE  Accuracy\n",
              "0       Linear_Regression  2058.549528  8.050973e+06  45.371241  0.166380\n",
              "0   Polynomial_Regression  1700.215438  6.320232e+06  41.233669  0.571804\n",
              "0      XGBoost_Regression   516.607476  6.136155e+05  22.729001  0.958254\n",
              "0  DecesionTree Regressor   718.790241  1.623834e+06  26.810264  0.889859"
            ]
          },
          "metadata": {
            "tags": []
          },
          "execution_count": 5
        }
      ]
    },
    {
      "cell_type": "markdown",
      "metadata": {
        "id": "yJ6Z3q6O6egl"
      },
      "source": [
        "[](https://)"
      ]
    },
    {
      "cell_type": "markdown",
      "metadata": {
        "id": "9vwubqPEGisi"
      },
      "source": [
        "**Step:-5**"
      ]
    },
    {
      "cell_type": "markdown",
      "metadata": {
        "id": "RMjQHjgs60sY"
      },
      "source": [
        "**RandomForest Regressor**"
      ]
    },
    {
      "cell_type": "markdown",
      "metadata": {
        "id": "9p2LD2HbsFLR"
      },
      "source": [
        "**it is part of Bagging that comes under Enable Learning. It works parallelly during execution. Random Forests are an improvement over bagged decision tree. A problem with decision trees is overfitting. This model changes the algorithm for the way that the sub-trees are learned so that the resulting predictions from all of the subtrees have less correlation. The random forest algorithm changes this procedure so that the learning algorithm is limited to a random sample of features of which to search. The number of features that can be searched at each split point (m) must be specified as a parameter to the algorithm. You can try different values and tune it using cross-validation.**"
      ]
    },
    {
      "cell_type": "markdown",
      "metadata": {
        "id": "dhgkGUvjwKMt"
      },
      "source": [
        "**[Random_Forest_Regressor](https://colab.research.google.com/drive/1ohrc3vUxyMSAcRIn8EWsYTGXi5O3Xo-_?usp=sharing)**"
      ]
    },
    {
      "cell_type": "code",
      "metadata": {
        "colab": {
          "base_uri": "https://localhost:8080/",
          "height": 204
        },
        "id": "8y4BTI6xGoKB",
        "outputId": "d7c06f7a-ad5f-4f4e-9bdf-b6447816a59c"
      },
      "source": [
        "mae=548.8507839974045\n",
        "mse=892451.0706819689\n",
        "rmse=23.427564619426505\n",
        "acc =0.9395363886990747\n",
        "evaluation = evaluation_df('Random_Forest_Regressor', mae, mse, rmse,acc, evaluation) \n",
        "evaluation "
      ],
      "execution_count": null,
      "outputs": [
        {
          "output_type": "execute_result",
          "data": {
            "text/html": [
              "<div>\n",
              "<style scoped>\n",
              "    .dataframe tbody tr th:only-of-type {\n",
              "        vertical-align: middle;\n",
              "    }\n",
              "\n",
              "    .dataframe tbody tr th {\n",
              "        vertical-align: top;\n",
              "    }\n",
              "\n",
              "    .dataframe thead th {\n",
              "        text-align: right;\n",
              "    }\n",
              "</style>\n",
              "<table border=\"1\" class=\"dataframe\">\n",
              "  <thead>\n",
              "    <tr style=\"text-align: right;\">\n",
              "      <th></th>\n",
              "      <th>Method</th>\n",
              "      <th>MAE</th>\n",
              "      <th>MSE</th>\n",
              "      <th>RMSE</th>\n",
              "      <th>Accuracy</th>\n",
              "    </tr>\n",
              "  </thead>\n",
              "  <tbody>\n",
              "    <tr>\n",
              "      <th>0</th>\n",
              "      <td>Linear_Regression</td>\n",
              "      <td>2058.549528</td>\n",
              "      <td>8.050973e+06</td>\n",
              "      <td>45.371241</td>\n",
              "      <td>0.166380</td>\n",
              "    </tr>\n",
              "    <tr>\n",
              "      <th>0</th>\n",
              "      <td>Polynomial_Regression</td>\n",
              "      <td>1700.215438</td>\n",
              "      <td>6.320232e+06</td>\n",
              "      <td>41.233669</td>\n",
              "      <td>0.571804</td>\n",
              "    </tr>\n",
              "    <tr>\n",
              "      <th>0</th>\n",
              "      <td>XGBoost_Regression</td>\n",
              "      <td>516.607476</td>\n",
              "      <td>6.136155e+05</td>\n",
              "      <td>22.729001</td>\n",
              "      <td>0.958254</td>\n",
              "    </tr>\n",
              "    <tr>\n",
              "      <th>0</th>\n",
              "      <td>DecesionTree Regressor</td>\n",
              "      <td>718.790241</td>\n",
              "      <td>1.623834e+06</td>\n",
              "      <td>26.810264</td>\n",
              "      <td>0.889859</td>\n",
              "    </tr>\n",
              "    <tr>\n",
              "      <th>0</th>\n",
              "      <td>Random_Forest_Regressor</td>\n",
              "      <td>548.850784</td>\n",
              "      <td>8.924511e+05</td>\n",
              "      <td>23.427565</td>\n",
              "      <td>0.939536</td>\n",
              "    </tr>\n",
              "  </tbody>\n",
              "</table>\n",
              "</div>"
            ],
            "text/plain": [
              "                    Method          MAE           MSE       RMSE  Accuracy\n",
              "0        Linear_Regression  2058.549528  8.050973e+06  45.371241  0.166380\n",
              "0    Polynomial_Regression  1700.215438  6.320232e+06  41.233669  0.571804\n",
              "0       XGBoost_Regression   516.607476  6.136155e+05  22.729001  0.958254\n",
              "0   DecesionTree Regressor   718.790241  1.623834e+06  26.810264  0.889859\n",
              "0  Random_Forest_Regressor   548.850784  8.924511e+05  23.427565  0.939536"
            ]
          },
          "metadata": {
            "tags": []
          },
          "execution_count": 6
        }
      ]
    },
    {
      "cell_type": "markdown",
      "metadata": {
        "id": "j_T_T0AJ0JF4"
      },
      "source": [
        "**Step:-6**"
      ]
    },
    {
      "cell_type": "markdown",
      "metadata": {
        "id": "IVZ2Oeylmoxa"
      },
      "source": [
        "**Gradient Boosted DecesionTree Regressor**"
      ]
    },
    {
      "cell_type": "markdown",
      "metadata": {
        "id": "b5C2t1u8rCka"
      },
      "source": [
        "**This model is also part of Boosting that comes under Enable Learning, it helps in accuracy increasing. Basically, it is not a model, it works parallelly on dataset.The Gradient Boosted Regression Trees (GBRT) model (also called Gradient Boosted Machine or GBM) is one of the most effective machine learning models for predictive analytics, The Boosted Trees Model is a type of additive model that makes predictions by combining decisions from a sequence of base models.**"
      ]
    },
    {
      "cell_type": "markdown",
      "metadata": {
        "id": "UNRgKAYznD15"
      },
      "source": [
        "**[Gradient_Boosting_DecesionTree Regressor](https://colab.research.google.com/drive/12gvPi0EBIsC4wG8MSKR5LlIsG6NxqdH9?usp=sharing)**"
      ]
    },
    {
      "cell_type": "code",
      "metadata": {
        "colab": {
          "base_uri": "https://localhost:8080/",
          "height": 235
        },
        "id": "X3o5MYicNZfI",
        "outputId": "46deacb9-858a-4b5d-8946-0965b124e448"
      },
      "source": [
        "mae=544.190499314334\n",
        "mse=652830.4078771307\n",
        "rmse=23.327891017285168\n",
        "acc =0.9557707023678684\n",
        "evaluation = evaluation_df('Gradient_Boosting_DecesionTree Regressor', mae, mse, rmse,acc, evaluation) \n",
        "evaluation "
      ],
      "execution_count": null,
      "outputs": [
        {
          "output_type": "execute_result",
          "data": {
            "text/html": [
              "<div>\n",
              "<style scoped>\n",
              "    .dataframe tbody tr th:only-of-type {\n",
              "        vertical-align: middle;\n",
              "    }\n",
              "\n",
              "    .dataframe tbody tr th {\n",
              "        vertical-align: top;\n",
              "    }\n",
              "\n",
              "    .dataframe thead th {\n",
              "        text-align: right;\n",
              "    }\n",
              "</style>\n",
              "<table border=\"1\" class=\"dataframe\">\n",
              "  <thead>\n",
              "    <tr style=\"text-align: right;\">\n",
              "      <th></th>\n",
              "      <th>Method</th>\n",
              "      <th>MAE</th>\n",
              "      <th>MSE</th>\n",
              "      <th>RMSE</th>\n",
              "      <th>Accuracy</th>\n",
              "    </tr>\n",
              "  </thead>\n",
              "  <tbody>\n",
              "    <tr>\n",
              "      <th>0</th>\n",
              "      <td>Linear_Regression</td>\n",
              "      <td>2058.549528</td>\n",
              "      <td>8.050973e+06</td>\n",
              "      <td>45.371241</td>\n",
              "      <td>0.166380</td>\n",
              "    </tr>\n",
              "    <tr>\n",
              "      <th>0</th>\n",
              "      <td>Polynomial_Regression</td>\n",
              "      <td>1700.215438</td>\n",
              "      <td>6.320232e+06</td>\n",
              "      <td>41.233669</td>\n",
              "      <td>0.571804</td>\n",
              "    </tr>\n",
              "    <tr>\n",
              "      <th>0</th>\n",
              "      <td>XGBoost_Regression</td>\n",
              "      <td>516.607476</td>\n",
              "      <td>6.136155e+05</td>\n",
              "      <td>22.729001</td>\n",
              "      <td>0.958254</td>\n",
              "    </tr>\n",
              "    <tr>\n",
              "      <th>0</th>\n",
              "      <td>DecesionTree Regressor</td>\n",
              "      <td>718.790241</td>\n",
              "      <td>1.623834e+06</td>\n",
              "      <td>26.810264</td>\n",
              "      <td>0.889859</td>\n",
              "    </tr>\n",
              "    <tr>\n",
              "      <th>0</th>\n",
              "      <td>Random_Forest_Regressor</td>\n",
              "      <td>548.850784</td>\n",
              "      <td>8.924511e+05</td>\n",
              "      <td>23.427565</td>\n",
              "      <td>0.939536</td>\n",
              "    </tr>\n",
              "    <tr>\n",
              "      <th>0</th>\n",
              "      <td>Gradient_Boosting_DecesionTree Regressor</td>\n",
              "      <td>544.190499</td>\n",
              "      <td>6.528304e+05</td>\n",
              "      <td>23.327891</td>\n",
              "      <td>0.955771</td>\n",
              "    </tr>\n",
              "  </tbody>\n",
              "</table>\n",
              "</div>"
            ],
            "text/plain": [
              "                                     Method          MAE  ...       RMSE  Accuracy\n",
              "0                         Linear_Regression  2058.549528  ...  45.371241  0.166380\n",
              "0                     Polynomial_Regression  1700.215438  ...  41.233669  0.571804\n",
              "0                        XGBoost_Regression   516.607476  ...  22.729001  0.958254\n",
              "0                    DecesionTree Regressor   718.790241  ...  26.810264  0.889859\n",
              "0                   Random_Forest_Regressor   548.850784  ...  23.427565  0.939536\n",
              "0  Gradient_Boosting_DecesionTree Regressor   544.190499  ...  23.327891  0.955771\n",
              "\n",
              "[6 rows x 5 columns]"
            ]
          },
          "metadata": {
            "tags": []
          },
          "execution_count": 7
        }
      ]
    },
    {
      "cell_type": "markdown",
      "metadata": {
        "id": "rlCOo0MKmzVa"
      },
      "source": [
        "**[](https://colab.research.google.com/drive/12gvPi0EBIsC4wG8MSKR5LlIsG6NxqdH9?usp=sharing)**"
      ]
    }
  ]
}